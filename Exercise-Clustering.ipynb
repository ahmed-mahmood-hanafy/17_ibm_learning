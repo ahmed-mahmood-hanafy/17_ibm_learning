{
 "cells": [
  {
   "cell_type": "markdown",
   "metadata": {
    "collapsed": true
   },
   "source": [
    "# Cluster Analysis Course Notebook"
   ]
  },
  {
   "cell_type": "markdown",
   "metadata": {},
   "source": [
    "### Importing Data files"
   ]
  },
  {
   "cell_type": "code",
   "execution_count": 17,
   "metadata": {},
   "outputs": [
    {
     "data": {
      "text/html": [
       "<div>\n",
       "<style scoped>\n",
       "    .dataframe tbody tr th:only-of-type {\n",
       "        vertical-align: middle;\n",
       "    }\n",
       "\n",
       "    .dataframe tbody tr th {\n",
       "        vertical-align: top;\n",
       "    }\n",
       "\n",
       "    .dataframe thead th {\n",
       "        text-align: right;\n",
       "    }\n",
       "</style>\n",
       "<table border=\"1\" class=\"dataframe\">\n",
       "  <thead>\n",
       "    <tr style=\"text-align: right;\">\n",
       "      <th></th>\n",
       "      <th>PRODUCT CODE</th>\n",
       "      <th>PRODUCT CATEGORY</th>\n",
       "      <th>UNIT LIST PRICE</th>\n",
       "    </tr>\n",
       "  </thead>\n",
       "  <tbody>\n",
       "    <tr>\n",
       "      <th>0</th>\n",
       "      <td>30001</td>\n",
       "      <td>HEALTH &amp; BEAUTY</td>\n",
       "      <td>$7.45</td>\n",
       "    </tr>\n",
       "    <tr>\n",
       "      <th>1</th>\n",
       "      <td>30002</td>\n",
       "      <td>HEALTH &amp; BEAUTY</td>\n",
       "      <td>$5.35</td>\n",
       "    </tr>\n",
       "    <tr>\n",
       "      <th>2</th>\n",
       "      <td>30003</td>\n",
       "      <td>HEALTH &amp; BEAUTY</td>\n",
       "      <td>$5.49</td>\n",
       "    </tr>\n",
       "    <tr>\n",
       "      <th>3</th>\n",
       "      <td>30004</td>\n",
       "      <td>HEALTH &amp; BEAUTY</td>\n",
       "      <td>$6.46</td>\n",
       "    </tr>\n",
       "    <tr>\n",
       "      <th>4</th>\n",
       "      <td>30005</td>\n",
       "      <td>HEALTH &amp; BEAUTY</td>\n",
       "      <td>$7.33</td>\n",
       "    </tr>\n",
       "  </tbody>\n",
       "</table>\n",
       "</div>"
      ],
      "text/plain": [
       "   PRODUCT CODE PRODUCT CATEGORY UNIT LIST PRICE\n",
       "0         30001  HEALTH & BEAUTY          $7.45 \n",
       "1         30002  HEALTH & BEAUTY          $5.35 \n",
       "2         30003  HEALTH & BEAUTY          $5.49 \n",
       "3         30004  HEALTH & BEAUTY          $6.46 \n",
       "4         30005  HEALTH & BEAUTY          $7.33 "
      ]
     },
     "execution_count": 17,
     "metadata": {},
     "output_type": "execute_result"
    }
   ],
   "source": [
    "#Import Product DataSet here\n",
    "import pandas as pd\n",
    "import numpy as np\n",
    "import matplotlib.pyplot as plt\n",
    "from sklearn.cluster import KMeans\n",
    "from sklearn.cluster import AgglomerativeClustering\n",
    "product_data = pd.read_csv('Product Data Set - Student 2 of 3.csv' ,sep='|')\n",
    "product_data.head()"
   ]
  },
  {
   "cell_type": "code",
   "execution_count": 2,
   "metadata": {},
   "outputs": [
    {
     "data": {
      "text/html": [
       "<div>\n",
       "<style scoped>\n",
       "    .dataframe tbody tr th:only-of-type {\n",
       "        vertical-align: middle;\n",
       "    }\n",
       "\n",
       "    .dataframe tbody tr th {\n",
       "        vertical-align: top;\n",
       "    }\n",
       "\n",
       "    .dataframe thead th {\n",
       "        text-align: right;\n",
       "    }\n",
       "</style>\n",
       "<table border=\"1\" class=\"dataframe\">\n",
       "  <thead>\n",
       "    <tr style=\"text-align: right;\">\n",
       "      <th></th>\n",
       "      <th>CUSTOMER NUM</th>\n",
       "      <th>PRODUCT NUM</th>\n",
       "      <th>QUANTITY PURCHASED</th>\n",
       "      <th>DISCOUNT TAKEN</th>\n",
       "      <th>TRANSACTION DATE</th>\n",
       "      <th>STOCKOUT</th>\n",
       "    </tr>\n",
       "  </thead>\n",
       "  <tbody>\n",
       "    <tr>\n",
       "      <th>0</th>\n",
       "      <td>10114</td>\n",
       "      <td>30011</td>\n",
       "      <td>4</td>\n",
       "      <td>0.0</td>\n",
       "      <td>1/2/2015</td>\n",
       "      <td>0</td>\n",
       "    </tr>\n",
       "    <tr>\n",
       "      <th>1</th>\n",
       "      <td>10217</td>\n",
       "      <td>30016</td>\n",
       "      <td>3</td>\n",
       "      <td>0.0</td>\n",
       "      <td>1/2/2015</td>\n",
       "      <td>0</td>\n",
       "    </tr>\n",
       "    <tr>\n",
       "      <th>2</th>\n",
       "      <td>10224</td>\n",
       "      <td>30013</td>\n",
       "      <td>4</td>\n",
       "      <td>0.0</td>\n",
       "      <td>1/2/2015</td>\n",
       "      <td>0</td>\n",
       "    </tr>\n",
       "    <tr>\n",
       "      <th>3</th>\n",
       "      <td>10103</td>\n",
       "      <td>30012</td>\n",
       "      <td>3</td>\n",
       "      <td>0.2</td>\n",
       "      <td>1/2/2015</td>\n",
       "      <td>0</td>\n",
       "    </tr>\n",
       "    <tr>\n",
       "      <th>4</th>\n",
       "      <td>10037</td>\n",
       "      <td>30010</td>\n",
       "      <td>8</td>\n",
       "      <td>0.0</td>\n",
       "      <td>1/2/2015</td>\n",
       "      <td>0</td>\n",
       "    </tr>\n",
       "  </tbody>\n",
       "</table>\n",
       "</div>"
      ],
      "text/plain": [
       "   CUSTOMER NUM  PRODUCT NUM  QUANTITY PURCHASED  DISCOUNT TAKEN  \\\n",
       "0         10114        30011                   4             0.0   \n",
       "1         10217        30016                   3             0.0   \n",
       "2         10224        30013                   4             0.0   \n",
       "3         10103        30012                   3             0.2   \n",
       "4         10037        30010                   8             0.0   \n",
       "\n",
       "  TRANSACTION DATE  STOCKOUT  \n",
       "0         1/2/2015         0  \n",
       "1         1/2/2015         0  \n",
       "2         1/2/2015         0  \n",
       "3         1/2/2015         0  \n",
       "4         1/2/2015         0  "
      ]
     },
     "execution_count": 2,
     "metadata": {},
     "output_type": "execute_result"
    }
   ],
   "source": [
    "#Import Transaction DataSet here\n",
    "transactions_data = pd.read_csv('Transaction Data Set - Student 3 of 3.csv' ,sep ='|')\n",
    "transactions_data.head()"
   ]
  },
  {
   "cell_type": "code",
   "execution_count": 3,
   "metadata": {},
   "outputs": [
    {
     "data": {
      "text/html": [
       "<div>\n",
       "<style scoped>\n",
       "    .dataframe tbody tr th:only-of-type {\n",
       "        vertical-align: middle;\n",
       "    }\n",
       "\n",
       "    .dataframe tbody tr th {\n",
       "        vertical-align: top;\n",
       "    }\n",
       "\n",
       "    .dataframe thead th {\n",
       "        text-align: right;\n",
       "    }\n",
       "</style>\n",
       "<table border=\"1\" class=\"dataframe\">\n",
       "  <thead>\n",
       "    <tr style=\"text-align: right;\">\n",
       "      <th></th>\n",
       "      <th>CUSTOMERID</th>\n",
       "      <th>GENDER</th>\n",
       "      <th>AGE</th>\n",
       "      <th>INCOME</th>\n",
       "      <th>EXPERIENCE SCORE</th>\n",
       "      <th>LOYALTY GROUP</th>\n",
       "      <th>ENROLLMENT DATE</th>\n",
       "      <th>HOUSEHOLD SIZE</th>\n",
       "      <th>MARITAL STATUS</th>\n",
       "    </tr>\n",
       "  </thead>\n",
       "  <tbody>\n",
       "    <tr>\n",
       "      <th>0</th>\n",
       "      <td>10001</td>\n",
       "      <td>0</td>\n",
       "      <td>64</td>\n",
       "      <td>$133,498</td>\n",
       "      <td>5</td>\n",
       "      <td>enrolled</td>\n",
       "      <td>06-03-2013</td>\n",
       "      <td>4</td>\n",
       "      <td>Single</td>\n",
       "    </tr>\n",
       "    <tr>\n",
       "      <th>1</th>\n",
       "      <td>10002</td>\n",
       "      <td>0</td>\n",
       "      <td>42</td>\n",
       "      <td>$94,475</td>\n",
       "      <td>9</td>\n",
       "      <td>notenrolled</td>\n",
       "      <td>NaN</td>\n",
       "      <td>6</td>\n",
       "      <td>Married</td>\n",
       "    </tr>\n",
       "    <tr>\n",
       "      <th>2</th>\n",
       "      <td>10003</td>\n",
       "      <td>0</td>\n",
       "      <td>40</td>\n",
       "      <td>$88,610</td>\n",
       "      <td>9</td>\n",
       "      <td>enrolled</td>\n",
       "      <td>02-09-2010</td>\n",
       "      <td>5</td>\n",
       "      <td>Married</td>\n",
       "    </tr>\n",
       "    <tr>\n",
       "      <th>3</th>\n",
       "      <td>10004</td>\n",
       "      <td>0</td>\n",
       "      <td>38</td>\n",
       "      <td>$84,313</td>\n",
       "      <td>8</td>\n",
       "      <td>enrolled</td>\n",
       "      <td>06-04-2015</td>\n",
       "      <td>1</td>\n",
       "      <td>Single</td>\n",
       "    </tr>\n",
       "    <tr>\n",
       "      <th>4</th>\n",
       "      <td>10005</td>\n",
       "      <td>0</td>\n",
       "      <td>30</td>\n",
       "      <td>$51,498</td>\n",
       "      <td>3</td>\n",
       "      <td>notenrolled</td>\n",
       "      <td>NaN</td>\n",
       "      <td>1</td>\n",
       "      <td>Single</td>\n",
       "    </tr>\n",
       "  </tbody>\n",
       "</table>\n",
       "</div>"
      ],
      "text/plain": [
       "   CUSTOMERID  GENDER  AGE    INCOME  EXPERIENCE SCORE LOYALTY GROUP  \\\n",
       "0       10001       0   64  $133,498                 5      enrolled   \n",
       "1       10002       0   42   $94,475                 9   notenrolled   \n",
       "2       10003       0   40   $88,610                 9      enrolled   \n",
       "3       10004       0   38   $84,313                 8      enrolled   \n",
       "4       10005       0   30   $51,498                 3   notenrolled   \n",
       "\n",
       "  ENROLLMENT DATE  HOUSEHOLD SIZE MARITAL STATUS  \n",
       "0      06-03-2013               4         Single  \n",
       "1             NaN               6        Married  \n",
       "2      02-09-2010               5        Married  \n",
       "3      06-04-2015               1         Single  \n",
       "4             NaN               1         Single  "
      ]
     },
     "execution_count": 3,
     "metadata": {},
     "output_type": "execute_result"
    }
   ],
   "source": [
    "#Import Customer Dataset Here\n",
    "customer_data = pd.read_csv('Customer Data Set - Student 1 of 3.csv')\n",
    "customer_data.head()"
   ]
  },
  {
   "cell_type": "markdown",
   "metadata": {},
   "source": [
    "### Changing data types"
   ]
  },
  {
   "cell_type": "code",
   "execution_count": 5,
   "metadata": {},
   "outputs": [
    {
     "data": {
      "text/html": [
       "<div>\n",
       "<style scoped>\n",
       "    .dataframe tbody tr th:only-of-type {\n",
       "        vertical-align: middle;\n",
       "    }\n",
       "\n",
       "    .dataframe tbody tr th {\n",
       "        vertical-align: top;\n",
       "    }\n",
       "\n",
       "    .dataframe thead th {\n",
       "        text-align: right;\n",
       "    }\n",
       "</style>\n",
       "<table border=\"1\" class=\"dataframe\">\n",
       "  <thead>\n",
       "    <tr style=\"text-align: right;\">\n",
       "      <th></th>\n",
       "      <th>CUSTOMERID</th>\n",
       "      <th>GENDER</th>\n",
       "      <th>AGE</th>\n",
       "      <th>INCOME</th>\n",
       "      <th>EXPERIENCE SCORE</th>\n",
       "      <th>LOYALTY GROUP</th>\n",
       "      <th>ENROLLMENT DATE</th>\n",
       "      <th>HOUSEHOLD SIZE</th>\n",
       "      <th>MARITAL STATUS</th>\n",
       "    </tr>\n",
       "  </thead>\n",
       "  <tbody>\n",
       "    <tr>\n",
       "      <th>0</th>\n",
       "      <td>10001</td>\n",
       "      <td>0</td>\n",
       "      <td>64</td>\n",
       "      <td>133498</td>\n",
       "      <td>5</td>\n",
       "      <td>enrolled</td>\n",
       "      <td>06-03-2013</td>\n",
       "      <td>4</td>\n",
       "      <td>Single</td>\n",
       "    </tr>\n",
       "    <tr>\n",
       "      <th>1</th>\n",
       "      <td>10002</td>\n",
       "      <td>0</td>\n",
       "      <td>42</td>\n",
       "      <td>94475</td>\n",
       "      <td>9</td>\n",
       "      <td>notenrolled</td>\n",
       "      <td>NaN</td>\n",
       "      <td>6</td>\n",
       "      <td>Married</td>\n",
       "    </tr>\n",
       "    <tr>\n",
       "      <th>2</th>\n",
       "      <td>10003</td>\n",
       "      <td>0</td>\n",
       "      <td>40</td>\n",
       "      <td>88610</td>\n",
       "      <td>9</td>\n",
       "      <td>enrolled</td>\n",
       "      <td>02-09-2010</td>\n",
       "      <td>5</td>\n",
       "      <td>Married</td>\n",
       "    </tr>\n",
       "    <tr>\n",
       "      <th>3</th>\n",
       "      <td>10004</td>\n",
       "      <td>0</td>\n",
       "      <td>38</td>\n",
       "      <td>84313</td>\n",
       "      <td>8</td>\n",
       "      <td>enrolled</td>\n",
       "      <td>06-04-2015</td>\n",
       "      <td>1</td>\n",
       "      <td>Single</td>\n",
       "    </tr>\n",
       "    <tr>\n",
       "      <th>4</th>\n",
       "      <td>10005</td>\n",
       "      <td>0</td>\n",
       "      <td>30</td>\n",
       "      <td>51498</td>\n",
       "      <td>3</td>\n",
       "      <td>notenrolled</td>\n",
       "      <td>NaN</td>\n",
       "      <td>1</td>\n",
       "      <td>Single</td>\n",
       "    </tr>\n",
       "  </tbody>\n",
       "</table>\n",
       "</div>"
      ],
      "text/plain": [
       "   CUSTOMERID  GENDER  AGE  INCOME  EXPERIENCE SCORE LOYALTY GROUP  \\\n",
       "0       10001       0   64  133498                 5      enrolled   \n",
       "1       10002       0   42   94475                 9   notenrolled   \n",
       "2       10003       0   40   88610                 9      enrolled   \n",
       "3       10004       0   38   84313                 8      enrolled   \n",
       "4       10005       0   30   51498                 3   notenrolled   \n",
       "\n",
       "  ENROLLMENT DATE  HOUSEHOLD SIZE MARITAL STATUS  \n",
       "0      06-03-2013               4         Single  \n",
       "1             NaN               6        Married  \n",
       "2      02-09-2010               5        Married  \n",
       "3      06-04-2015               1         Single  \n",
       "4             NaN               1         Single  "
      ]
     },
     "execution_count": 5,
     "metadata": {},
     "output_type": "execute_result"
    }
   ],
   "source": [
    "#customer_data['INCOME']=customer_data['INCOME'].map(lambda x : x.replace('$',''))\n",
    "#customer_data['INCOME']=customer_data['INCOME'].map(lambda x : int(x.replace(',','')))\n",
    "customer_data['INCOME'] =customer_data['INCOME'].str.replace('$','').str.replace(',','').astype('int')\n",
    "customer_data.head()"
   ]
  },
  {
   "cell_type": "markdown",
   "metadata": {},
   "source": [
    "### Creating Customer View"
   ]
  },
  {
   "cell_type": "code",
   "execution_count": 6,
   "metadata": {},
   "outputs": [],
   "source": [
    "trans_products=transactions_data.merge(product_data,how='inner', left_on='PRODUCT NUM', right_on='PRODUCT CODE')"
   ]
  },
  {
   "cell_type": "code",
   "execution_count": 7,
   "metadata": {},
   "outputs": [],
   "source": [
    "trans_products['UNIT LIST PRICE']=trans_products['UNIT LIST PRICE'].map(lambda x : float(x.replace('$','')))"
   ]
  },
  {
   "cell_type": "code",
   "execution_count": 8,
   "metadata": {},
   "outputs": [],
   "source": [
    "trans_products['Total_Price']=trans_products['QUANTITY PURCHASED'] * trans_products['UNIT LIST PRICE'] * (1- trans_products['DISCOUNT TAKEN'])"
   ]
  },
  {
   "cell_type": "code",
   "execution_count": 9,
   "metadata": {},
   "outputs": [],
   "source": [
    "customer_prod_categ=trans_products.groupby(['CUSTOMER NUM','PRODUCT CATEGORY']).agg({'Total_Price':'sum'})"
   ]
  },
  {
   "cell_type": "code",
   "execution_count": 10,
   "metadata": {},
   "outputs": [],
   "source": [
    "customer_prod_categ=customer_prod_categ.reset_index()"
   ]
  },
  {
   "cell_type": "code",
   "execution_count": 11,
   "metadata": {},
   "outputs": [],
   "source": [
    "customer_pivot=customer_prod_categ.pivot(index='CUSTOMER NUM',columns='PRODUCT CATEGORY',values='Total_Price')"
   ]
  },
  {
   "cell_type": "code",
   "execution_count": 12,
   "metadata": {},
   "outputs": [],
   "source": [
    "trans_total_spend=trans_products.groupby('CUSTOMER NUM').agg({'Total_Price':'sum'}).\\\n",
    "rename(columns={'Total_Price':'TOTAL SPENT'})"
   ]
  },
  {
   "cell_type": "code",
   "execution_count": 13,
   "metadata": {},
   "outputs": [],
   "source": [
    "customer_KPIs=customer_pivot.merge(trans_total_spend,how='inner',left_index=True, right_index=True )"
   ]
  },
  {
   "cell_type": "code",
   "execution_count": 14,
   "metadata": {},
   "outputs": [],
   "source": [
    "customer_KPIs=customer_KPIs.fillna(0)\n"
   ]
  },
  {
   "cell_type": "code",
   "execution_count": 96,
   "metadata": {},
   "outputs": [],
   "source": [
    "customer_all_view=customer_data.merge(customer_KPIs,how='inner', left_on='CUSTOMERID', right_index=True)"
   ]
  },
  {
   "cell_type": "code",
   "execution_count": 97,
   "metadata": {},
   "outputs": [
    {
     "data": {
      "text/html": [
       "<div>\n",
       "<style scoped>\n",
       "    .dataframe tbody tr th:only-of-type {\n",
       "        vertical-align: middle;\n",
       "    }\n",
       "\n",
       "    .dataframe tbody tr th {\n",
       "        vertical-align: top;\n",
       "    }\n",
       "\n",
       "    .dataframe thead th {\n",
       "        text-align: right;\n",
       "    }\n",
       "</style>\n",
       "<table border=\"1\" class=\"dataframe\">\n",
       "  <thead>\n",
       "    <tr style=\"text-align: right;\">\n",
       "      <th></th>\n",
       "      <th>CUSTOMERID</th>\n",
       "      <th>GENDER</th>\n",
       "      <th>AGE</th>\n",
       "      <th>INCOME</th>\n",
       "      <th>EXPERIENCE SCORE</th>\n",
       "      <th>LOYALTY GROUP</th>\n",
       "      <th>ENROLLMENT DATE</th>\n",
       "      <th>HOUSEHOLD SIZE</th>\n",
       "      <th>MARITAL STATUS</th>\n",
       "      <th>APPAREL</th>\n",
       "      <th>ELECTRONICS</th>\n",
       "      <th>FOOD</th>\n",
       "      <th>HEALTH &amp; BEAUTY</th>\n",
       "      <th>TOTAL SPENT</th>\n",
       "    </tr>\n",
       "  </thead>\n",
       "  <tbody>\n",
       "    <tr>\n",
       "      <th>0</th>\n",
       "      <td>10001</td>\n",
       "      <td>0</td>\n",
       "      <td>64</td>\n",
       "      <td>133498</td>\n",
       "      <td>5</td>\n",
       "      <td>enrolled</td>\n",
       "      <td>06-03-2013</td>\n",
       "      <td>4</td>\n",
       "      <td>Single</td>\n",
       "      <td>4022.430</td>\n",
       "      <td>1601.315</td>\n",
       "      <td>68.688</td>\n",
       "      <td>1134.337</td>\n",
       "      <td>6826.770</td>\n",
       "    </tr>\n",
       "    <tr>\n",
       "      <th>1</th>\n",
       "      <td>10002</td>\n",
       "      <td>0</td>\n",
       "      <td>42</td>\n",
       "      <td>94475</td>\n",
       "      <td>9</td>\n",
       "      <td>notenrolled</td>\n",
       "      <td>NaN</td>\n",
       "      <td>6</td>\n",
       "      <td>Married</td>\n",
       "      <td>2312.509</td>\n",
       "      <td>2473.163</td>\n",
       "      <td>276.779</td>\n",
       "      <td>0.000</td>\n",
       "      <td>5062.451</td>\n",
       "    </tr>\n",
       "    <tr>\n",
       "      <th>2</th>\n",
       "      <td>10003</td>\n",
       "      <td>0</td>\n",
       "      <td>40</td>\n",
       "      <td>88610</td>\n",
       "      <td>9</td>\n",
       "      <td>enrolled</td>\n",
       "      <td>02-09-2010</td>\n",
       "      <td>5</td>\n",
       "      <td>Married</td>\n",
       "      <td>2887.382</td>\n",
       "      <td>5414.418</td>\n",
       "      <td>260.640</td>\n",
       "      <td>0.000</td>\n",
       "      <td>8562.440</td>\n",
       "    </tr>\n",
       "    <tr>\n",
       "      <th>3</th>\n",
       "      <td>10004</td>\n",
       "      <td>0</td>\n",
       "      <td>38</td>\n",
       "      <td>84313</td>\n",
       "      <td>8</td>\n",
       "      <td>enrolled</td>\n",
       "      <td>06-04-2015</td>\n",
       "      <td>1</td>\n",
       "      <td>Single</td>\n",
       "      <td>3637.213</td>\n",
       "      <td>1840.211</td>\n",
       "      <td>45.270</td>\n",
       "      <td>0.000</td>\n",
       "      <td>5522.694</td>\n",
       "    </tr>\n",
       "    <tr>\n",
       "      <th>4</th>\n",
       "      <td>10005</td>\n",
       "      <td>0</td>\n",
       "      <td>30</td>\n",
       "      <td>51498</td>\n",
       "      <td>3</td>\n",
       "      <td>notenrolled</td>\n",
       "      <td>NaN</td>\n",
       "      <td>1</td>\n",
       "      <td>Single</td>\n",
       "      <td>213.512</td>\n",
       "      <td>0.000</td>\n",
       "      <td>0.000</td>\n",
       "      <td>0.000</td>\n",
       "      <td>213.512</td>\n",
       "    </tr>\n",
       "  </tbody>\n",
       "</table>\n",
       "</div>"
      ],
      "text/plain": [
       "   CUSTOMERID  GENDER  AGE  INCOME  EXPERIENCE SCORE LOYALTY GROUP  \\\n",
       "0       10001       0   64  133498                 5      enrolled   \n",
       "1       10002       0   42   94475                 9   notenrolled   \n",
       "2       10003       0   40   88610                 9      enrolled   \n",
       "3       10004       0   38   84313                 8      enrolled   \n",
       "4       10005       0   30   51498                 3   notenrolled   \n",
       "\n",
       "  ENROLLMENT DATE  HOUSEHOLD SIZE MARITAL STATUS   APPAREL  ELECTRONICS  \\\n",
       "0      06-03-2013               4         Single  4022.430     1601.315   \n",
       "1             NaN               6        Married  2312.509     2473.163   \n",
       "2      02-09-2010               5        Married  2887.382     5414.418   \n",
       "3      06-04-2015               1         Single  3637.213     1840.211   \n",
       "4             NaN               1         Single   213.512        0.000   \n",
       "\n",
       "      FOOD  HEALTH & BEAUTY  TOTAL SPENT  \n",
       "0   68.688         1134.337     6826.770  \n",
       "1  276.779            0.000     5062.451  \n",
       "2  260.640            0.000     8562.440  \n",
       "3   45.270            0.000     5522.694  \n",
       "4    0.000            0.000      213.512  "
      ]
     },
     "execution_count": 97,
     "metadata": {},
     "output_type": "execute_result"
    }
   ],
   "source": [
    "customer_all_view.head()"
   ]
  },
  {
   "cell_type": "markdown",
   "metadata": {},
   "source": [
    "# Clustering  "
   ]
  },
  {
   "cell_type": "code",
   "execution_count": 74,
   "metadata": {},
   "outputs": [
    {
     "data": {
      "text/html": [
       "<div>\n",
       "<style scoped>\n",
       "    .dataframe tbody tr th:only-of-type {\n",
       "        vertical-align: middle;\n",
       "    }\n",
       "\n",
       "    .dataframe tbody tr th {\n",
       "        vertical-align: top;\n",
       "    }\n",
       "\n",
       "    .dataframe thead th {\n",
       "        text-align: right;\n",
       "    }\n",
       "</style>\n",
       "<table border=\"1\" class=\"dataframe\">\n",
       "  <thead>\n",
       "    <tr style=\"text-align: right;\">\n",
       "      <th></th>\n",
       "      <th>INCOME</th>\n",
       "      <th>TOTAL SPENT</th>\n",
       "    </tr>\n",
       "  </thead>\n",
       "  <tbody>\n",
       "    <tr>\n",
       "      <th>0</th>\n",
       "      <td>133498</td>\n",
       "      <td>6826.770</td>\n",
       "    </tr>\n",
       "    <tr>\n",
       "      <th>1</th>\n",
       "      <td>94475</td>\n",
       "      <td>5062.451</td>\n",
       "    </tr>\n",
       "    <tr>\n",
       "      <th>2</th>\n",
       "      <td>88610</td>\n",
       "      <td>8562.440</td>\n",
       "    </tr>\n",
       "    <tr>\n",
       "      <th>3</th>\n",
       "      <td>84313</td>\n",
       "      <td>5522.694</td>\n",
       "    </tr>\n",
       "    <tr>\n",
       "      <th>4</th>\n",
       "      <td>51498</td>\n",
       "      <td>213.512</td>\n",
       "    </tr>\n",
       "  </tbody>\n",
       "</table>\n",
       "</div>"
      ],
      "text/plain": [
       "   INCOME  TOTAL SPENT\n",
       "0  133498     6826.770\n",
       "1   94475     5062.451\n",
       "2   88610     8562.440\n",
       "3   84313     5522.694\n",
       "4   51498      213.512"
      ]
     },
     "execution_count": 74,
     "metadata": {},
     "output_type": "execute_result"
    }
   ],
   "source": [
    "#Begin Writing your code here\n",
    "cluster_input=customer_all_view[['INCOME','TOTAL SPENT']]\n",
    "cluster_input.head(5)"
   ]
  },
  {
   "cell_type": "code",
   "execution_count": 75,
   "metadata": {},
   "outputs": [
    {
     "data": {
      "text/plain": [
       "KMeans(algorithm='auto', copy_x=True, init='k-means++', max_iter=300,\n",
       "    n_clusters=4, n_init=10, n_jobs=1, precompute_distances='auto',\n",
       "    random_state=None, tol=0.0001, verbose=0)"
      ]
     },
     "execution_count": 75,
     "metadata": {},
     "output_type": "execute_result"
    }
   ],
   "source": [
    "Kmeans_model=KMeans(n_clusters=4)\n",
    "Kmeans_model"
   ]
  },
  {
   "cell_type": "code",
   "execution_count": 76,
   "metadata": {},
   "outputs": [],
   "source": [
    "cluster_output = Kmeans_model.fit_predict(cluster_input)"
   ]
  },
  {
   "cell_type": "code",
   "execution_count": 77,
   "metadata": {},
   "outputs": [
    {
     "data": {
      "text/plain": [
       "array([1, 2, 2, 2, 0, 1, 2, 3, 3, 2, 0, 3, 2, 2, 0, 2, 2, 3, 1, 0, 3, 3,\n",
       "       3, 0, 3, 3, 2, 0, 0, 1, 2, 0, 0, 2, 0, 0, 0, 3, 3, 0, 0, 2, 2, 2,\n",
       "       1, 0, 0, 2, 1, 0, 3, 0, 0, 0, 3, 0, 3, 3, 3, 0, 2, 3, 1, 3, 1, 2,\n",
       "       2, 3, 0, 2, 2, 0, 0, 2, 1, 0, 2, 0, 2, 1, 2, 3, 1, 3, 0, 3, 1, 0,\n",
       "       2, 0, 3, 1, 3, 3, 3, 2, 3, 0, 1, 3, 0, 0, 0, 0, 2, 3, 3, 0, 2, 0,\n",
       "       0, 0, 2, 0, 3, 0, 1, 1, 2, 2, 0, 2, 3, 0, 2, 2, 3, 2, 0, 1, 2, 2,\n",
       "       0, 2, 1, 2, 1, 1, 3, 2, 2, 0, 0, 0, 2, 3, 2, 0, 3, 2, 2, 3, 3, 3,\n",
       "       2, 3, 0, 0, 3, 0, 1, 0, 1, 3, 0, 2, 0, 1, 2, 0, 1, 0, 3, 3, 1, 0,\n",
       "       1, 1, 3, 0, 1, 0, 2, 0, 3, 1, 3, 3, 0, 1, 0, 3, 3, 1, 3, 1, 3, 1,\n",
       "       3, 2, 3, 0, 1, 1, 3, 0, 2, 1, 1, 1, 1, 0, 3, 2, 1, 3, 0, 3, 2, 0,\n",
       "       2, 0, 3, 0, 0, 0, 3, 0, 0, 2, 3, 2, 3, 2, 2, 0, 3, 1, 0, 0, 0, 2,\n",
       "       2, 2, 2, 0, 3, 3, 1, 0, 2, 3, 0, 3, 0, 2, 0, 1, 3, 3, 0, 1, 0, 2,\n",
       "       2, 1, 3, 2, 2, 3, 1, 0, 1, 0, 0, 0, 1, 2, 3, 3, 3, 2, 2, 2, 1, 2,\n",
       "       3, 2, 3, 1, 1, 0, 0, 1, 0, 0, 0, 0, 2, 2, 0, 2, 2, 1, 0, 1, 0, 0,\n",
       "       1, 0, 0, 3, 2, 2, 2, 2, 0, 1, 3, 0, 3, 2, 0, 2, 0, 0, 2, 0, 3, 0,\n",
       "       0, 3, 0, 2, 2, 0, 0, 3, 3, 3, 3, 1, 3, 2, 3, 3, 2, 1, 3, 2, 0, 2,\n",
       "       0, 3, 1, 1, 3, 2, 0, 2, 1, 2, 0, 3, 2, 0, 2, 3, 3, 2, 3, 2, 2, 1,\n",
       "       2, 1, 3, 2, 0, 3, 2, 0, 0, 0, 1, 2, 0, 2, 1, 0, 1, 0, 2, 1, 0, 3,\n",
       "       1, 2, 1, 2, 3, 1, 0, 0, 1, 2, 0, 1, 2, 2, 1, 3, 0, 2, 1, 0, 3, 3,\n",
       "       1, 0, 0, 2, 2, 2, 3, 2, 1, 3, 2, 0, 3, 2, 2, 0, 1, 2, 3, 3, 2, 3,\n",
       "       3, 0, 0, 1, 0, 2, 1, 0, 0, 2, 0, 0, 0, 0, 1, 2, 3, 3, 2, 0, 1, 2,\n",
       "       3, 2, 1, 3, 2, 0, 0, 3, 1, 2, 1, 3, 3, 2, 2, 2, 0, 0, 0, 3, 3, 1,\n",
       "       2, 0, 2, 0, 3, 1, 2, 2, 1, 2, 0, 3, 3, 3, 0, 2])"
      ]
     },
     "execution_count": 77,
     "metadata": {},
     "output_type": "execute_result"
    }
   ],
   "source": [
    "cluster_output"
   ]
  },
  {
   "cell_type": "code",
   "execution_count": 78,
   "metadata": {},
   "outputs": [],
   "source": [
    "segment_DF = cluster_input.copy()\n",
    "segment_DF['segment'] = cluster_output"
   ]
  },
  {
   "cell_type": "code",
   "execution_count": 79,
   "metadata": {},
   "outputs": [
    {
     "data": {
      "text/html": [
       "<div>\n",
       "<style scoped>\n",
       "    .dataframe tbody tr th:only-of-type {\n",
       "        vertical-align: middle;\n",
       "    }\n",
       "\n",
       "    .dataframe tbody tr th {\n",
       "        vertical-align: top;\n",
       "    }\n",
       "\n",
       "    .dataframe thead th {\n",
       "        text-align: right;\n",
       "    }\n",
       "</style>\n",
       "<table border=\"1\" class=\"dataframe\">\n",
       "  <thead>\n",
       "    <tr style=\"text-align: right;\">\n",
       "      <th></th>\n",
       "      <th>INCOME</th>\n",
       "      <th>TOTAL SPENT</th>\n",
       "      <th>segment</th>\n",
       "    </tr>\n",
       "  </thead>\n",
       "  <tbody>\n",
       "    <tr>\n",
       "      <th>0</th>\n",
       "      <td>133498</td>\n",
       "      <td>6826.770</td>\n",
       "      <td>1</td>\n",
       "    </tr>\n",
       "    <tr>\n",
       "      <th>1</th>\n",
       "      <td>94475</td>\n",
       "      <td>5062.451</td>\n",
       "      <td>2</td>\n",
       "    </tr>\n",
       "    <tr>\n",
       "      <th>2</th>\n",
       "      <td>88610</td>\n",
       "      <td>8562.440</td>\n",
       "      <td>2</td>\n",
       "    </tr>\n",
       "    <tr>\n",
       "      <th>3</th>\n",
       "      <td>84313</td>\n",
       "      <td>5522.694</td>\n",
       "      <td>2</td>\n",
       "    </tr>\n",
       "    <tr>\n",
       "      <th>4</th>\n",
       "      <td>51498</td>\n",
       "      <td>213.512</td>\n",
       "      <td>0</td>\n",
       "    </tr>\n",
       "  </tbody>\n",
       "</table>\n",
       "</div>"
      ],
      "text/plain": [
       "   INCOME  TOTAL SPENT  segment\n",
       "0  133498     6826.770        1\n",
       "1   94475     5062.451        2\n",
       "2   88610     8562.440        2\n",
       "3   84313     5522.694        2\n",
       "4   51498      213.512        0"
      ]
     },
     "execution_count": 79,
     "metadata": {},
     "output_type": "execute_result"
    }
   ],
   "source": [
    "segment_DF.head()"
   ]
  },
  {
   "cell_type": "code",
   "execution_count": 80,
   "metadata": {},
   "outputs": [
    {
     "data": {
      "text/plain": [
       "array([[ 40510.09803922,   2472.75349673],\n",
       "       [138629.34482759,   6996.87572414],\n",
       "       [ 79703.36956522,   5428.75010145],\n",
       "       [111789.98360656,   7856.9202541 ]])"
      ]
     },
     "execution_count": 80,
     "metadata": {},
     "output_type": "execute_result"
    }
   ],
   "source": [
    "Kmeans_model.cluster_centers_"
   ]
  },
  {
   "cell_type": "code",
   "execution_count": 81,
   "metadata": {},
   "outputs": [
    {
     "data": {
      "text/html": [
       "<div>\n",
       "<style scoped>\n",
       "    .dataframe tbody tr th:only-of-type {\n",
       "        vertical-align: middle;\n",
       "    }\n",
       "\n",
       "    .dataframe tbody tr th {\n",
       "        vertical-align: top;\n",
       "    }\n",
       "\n",
       "    .dataframe thead th {\n",
       "        text-align: right;\n",
       "    }\n",
       "</style>\n",
       "<table border=\"1\" class=\"dataframe\">\n",
       "  <thead>\n",
       "    <tr style=\"text-align: right;\">\n",
       "      <th></th>\n",
       "      <th>INCOME</th>\n",
       "      <th>TOTAL SPENT</th>\n",
       "      <th>segment</th>\n",
       "    </tr>\n",
       "  </thead>\n",
       "  <tbody>\n",
       "    <tr>\n",
       "      <th>4</th>\n",
       "      <td>51498</td>\n",
       "      <td>213.512</td>\n",
       "      <td>0</td>\n",
       "    </tr>\n",
       "    <tr>\n",
       "      <th>10</th>\n",
       "      <td>20256</td>\n",
       "      <td>1496.871</td>\n",
       "      <td>0</td>\n",
       "    </tr>\n",
       "    <tr>\n",
       "      <th>14</th>\n",
       "      <td>57251</td>\n",
       "      <td>7398.953</td>\n",
       "      <td>0</td>\n",
       "    </tr>\n",
       "    <tr>\n",
       "      <th>19</th>\n",
       "      <td>59964</td>\n",
       "      <td>4306.776</td>\n",
       "      <td>0</td>\n",
       "    </tr>\n",
       "    <tr>\n",
       "      <th>23</th>\n",
       "      <td>51529</td>\n",
       "      <td>2884.220</td>\n",
       "      <td>0</td>\n",
       "    </tr>\n",
       "  </tbody>\n",
       "</table>\n",
       "</div>"
      ],
      "text/plain": [
       "    INCOME  TOTAL SPENT  segment\n",
       "4    51498      213.512        0\n",
       "10   20256     1496.871        0\n",
       "14   57251     7398.953        0\n",
       "19   59964     4306.776        0\n",
       "23   51529     2884.220        0"
      ]
     },
     "execution_count": 81,
     "metadata": {},
     "output_type": "execute_result"
    }
   ],
   "source": [
    "segment_DF[segment_DF.segment==0].head()"
   ]
  },
  {
   "cell_type": "code",
   "execution_count": 82,
   "metadata": {},
   "outputs": [
    {
     "data": {
      "image/png": "[encoded data removed]",
      "text/plain": [
       "<Figure size 432x288 with 1 Axes>"
      ]
     },
     "metadata": {
      "needs_background": "light"
     },
     "output_type": "display_data"
    }
   ],
   "source": [
    "plt.scatter(segment_DF[segment_DF.segment==0]['INCOME'],segment_DF[segment_DF.segment==0]['TOTAL SPENT'],s=50, c='purple',label='Cluster1')\n",
    "plt.scatter(segment_DF[segment_DF.segment==1]['INCOME'],segment_DF[segment_DF.segment==1]['TOTAL SPENT'],s=50, c='blue',label='Cluster2')\n",
    "plt.scatter(segment_DF[segment_DF.segment==2]['INCOME'],segment_DF[segment_DF.segment==2]['TOTAL SPENT'],s=50, c='green',label='Cluster3')\n",
    "plt.scatter(segment_DF[segment_DF.segment==3]['INCOME'],segment_DF[segment_DF.segment==3]['TOTAL SPENT'],s=50, c='cyan',label='Cluster4')\n",
    "plt.scatter(Kmeans_model.cluster_centers_[:,0], Kmeans_model.cluster_centers_[:,1],s=200,marker='s', c='red', alpha=0.7, label='Centroids')\n",
    "plt.title('Customer segments using K-means (k=4)')\n",
    "plt.xlabel('Income')\n",
    "plt.ylabel('Total Spend')\n",
    "plt.legend()\n",
    "plt.show()"
   ]
  },
  {
   "cell_type": "code",
   "execution_count": 98,
   "metadata": {},
   "outputs": [],
   "source": [
    "customer_demographics = customer_all_view.copy()\n",
    "customer_demographics['segment']=cluster_output"
   ]
  },
  {
   "cell_type": "code",
   "execution_count": 84,
   "metadata": {},
   "outputs": [
    {
     "data": {
      "text/html": [
       "<div>\n",
       "<style scoped>\n",
       "    .dataframe tbody tr th:only-of-type {\n",
       "        vertical-align: middle;\n",
       "    }\n",
       "\n",
       "    .dataframe tbody tr th {\n",
       "        vertical-align: top;\n",
       "    }\n",
       "\n",
       "    .dataframe thead th {\n",
       "        text-align: right;\n",
       "    }\n",
       "</style>\n",
       "<table border=\"1\" class=\"dataframe\">\n",
       "  <thead>\n",
       "    <tr style=\"text-align: right;\">\n",
       "      <th></th>\n",
       "      <th>AGE</th>\n",
       "      <th>HOUSEHOLD SIZE</th>\n",
       "    </tr>\n",
       "    <tr>\n",
       "      <th>segment</th>\n",
       "      <th></th>\n",
       "      <th></th>\n",
       "    </tr>\n",
       "  </thead>\n",
       "  <tbody>\n",
       "    <tr>\n",
       "      <th>0</th>\n",
       "      <td>25.104575</td>\n",
       "      <td>2.0</td>\n",
       "    </tr>\n",
       "    <tr>\n",
       "      <th>1</th>\n",
       "      <td>73.609195</td>\n",
       "      <td>2.0</td>\n",
       "    </tr>\n",
       "    <tr>\n",
       "      <th>2</th>\n",
       "      <td>36.615942</td>\n",
       "      <td>3.5</td>\n",
       "    </tr>\n",
       "    <tr>\n",
       "      <th>3</th>\n",
       "      <td>48.032787</td>\n",
       "      <td>3.0</td>\n",
       "    </tr>\n",
       "  </tbody>\n",
       "</table>\n",
       "</div>"
      ],
      "text/plain": [
       "               AGE  HOUSEHOLD SIZE\n",
       "segment                           \n",
       "0        25.104575             2.0\n",
       "1        73.609195             2.0\n",
       "2        36.615942             3.5\n",
       "3        48.032787             3.0"
      ]
     },
     "execution_count": 84,
     "metadata": {},
     "output_type": "execute_result"
    }
   ],
   "source": [
    "customer_demographics.groupby('segment').agg({'AGE':'mean','HOUSEHOLD SIZE':'median'})"
   ]
  },
  {
   "cell_type": "code",
   "execution_count": 85,
   "metadata": {},
   "outputs": [],
   "source": [
    "def percent_loyalty(series):\n",
    "    percent=100 * series.value_counts()['enrolled'] /series.count()\n",
    "    return percent"
   ]
  },
  {
   "cell_type": "code",
   "execution_count": 86,
   "metadata": {},
   "outputs": [
    {
     "data": {
      "text/html": [
       "<div>\n",
       "<style scoped>\n",
       "    .dataframe tbody tr th:only-of-type {\n",
       "        vertical-align: middle;\n",
       "    }\n",
       "\n",
       "    .dataframe tbody tr th {\n",
       "        vertical-align: top;\n",
       "    }\n",
       "\n",
       "    .dataframe thead th {\n",
       "        text-align: right;\n",
       "    }\n",
       "</style>\n",
       "<table border=\"1\" class=\"dataframe\">\n",
       "  <thead>\n",
       "    <tr style=\"text-align: right;\">\n",
       "      <th></th>\n",
       "      <th>AGE</th>\n",
       "      <th>HOUSEHOLD SIZE</th>\n",
       "      <th>LOYALTY GROUP</th>\n",
       "    </tr>\n",
       "    <tr>\n",
       "      <th>segment</th>\n",
       "      <th></th>\n",
       "      <th></th>\n",
       "      <th></th>\n",
       "    </tr>\n",
       "  </thead>\n",
       "  <tbody>\n",
       "    <tr>\n",
       "      <th>0</th>\n",
       "      <td>25.104575</td>\n",
       "      <td>2.0</td>\n",
       "      <td>50.326797</td>\n",
       "    </tr>\n",
       "    <tr>\n",
       "      <th>1</th>\n",
       "      <td>73.609195</td>\n",
       "      <td>2.0</td>\n",
       "      <td>65.517241</td>\n",
       "    </tr>\n",
       "    <tr>\n",
       "      <th>2</th>\n",
       "      <td>36.615942</td>\n",
       "      <td>3.5</td>\n",
       "      <td>33.333333</td>\n",
       "    </tr>\n",
       "    <tr>\n",
       "      <th>3</th>\n",
       "      <td>48.032787</td>\n",
       "      <td>3.0</td>\n",
       "      <td>68.852459</td>\n",
       "    </tr>\n",
       "  </tbody>\n",
       "</table>\n",
       "</div>"
      ],
      "text/plain": [
       "               AGE  HOUSEHOLD SIZE  LOYALTY GROUP\n",
       "segment                                          \n",
       "0        25.104575             2.0      50.326797\n",
       "1        73.609195             2.0      65.517241\n",
       "2        36.615942             3.5      33.333333\n",
       "3        48.032787             3.0      68.852459"
      ]
     },
     "execution_count": 86,
     "metadata": {},
     "output_type": "execute_result"
    }
   ],
   "source": [
    "customer_demographics.groupby('segment').agg({'AGE':'mean','HOUSEHOLD SIZE':'median','LOYALTY GROUP': percent_loyalty})"
   ]
  },
  {
   "cell_type": "code",
   "execution_count": 87,
   "metadata": {},
   "outputs": [
    {
     "data": {
      "text/plain": [
       "AgglomerativeClustering(affinity='euclidean', compute_full_tree='auto',\n",
       "            connectivity=None, linkage='ward', memory=None, n_clusters=4,\n",
       "            pooling_func=<function mean at 0x035151E0>)"
      ]
     },
     "execution_count": 87,
     "metadata": {},
     "output_type": "execute_result"
    }
   ],
   "source": [
    "AgglomerativeClustering_model=AgglomerativeClustering(n_clusters=4)\n",
    "AgglomerativeClustering_model"
   ]
  },
  {
   "cell_type": "code",
   "execution_count": 88,
   "metadata": {},
   "outputs": [],
   "source": [
    "cluster_output_1 = AgglomerativeClustering_model.fit_predict(cluster_input)"
   ]
  },
  {
   "cell_type": "code",
   "execution_count": 91,
   "metadata": {},
   "outputs": [],
   "source": [
    "segment_DF_1 = cluster_input.copy()\n",
    "segment_DF_1['segment'] = cluster_output_1"
   ]
  },
  {
   "cell_type": "code",
   "execution_count": 92,
   "metadata": {},
   "outputs": [
    {
     "data": {
      "text/html": [
       "<div>\n",
       "<style scoped>\n",
       "    .dataframe tbody tr th:only-of-type {\n",
       "        vertical-align: middle;\n",
       "    }\n",
       "\n",
       "    .dataframe tbody tr th {\n",
       "        vertical-align: top;\n",
       "    }\n",
       "\n",
       "    .dataframe thead th {\n",
       "        text-align: right;\n",
       "    }\n",
       "</style>\n",
       "<table border=\"1\" class=\"dataframe\">\n",
       "  <thead>\n",
       "    <tr style=\"text-align: right;\">\n",
       "      <th></th>\n",
       "      <th>INCOME</th>\n",
       "      <th>TOTAL SPENT</th>\n",
       "      <th>segment</th>\n",
       "    </tr>\n",
       "  </thead>\n",
       "  <tbody>\n",
       "    <tr>\n",
       "      <th>0</th>\n",
       "      <td>133498</td>\n",
       "      <td>6826.770</td>\n",
       "      <td>0</td>\n",
       "    </tr>\n",
       "    <tr>\n",
       "      <th>1</th>\n",
       "      <td>94475</td>\n",
       "      <td>5062.451</td>\n",
       "      <td>3</td>\n",
       "    </tr>\n",
       "    <tr>\n",
       "      <th>2</th>\n",
       "      <td>88610</td>\n",
       "      <td>8562.440</td>\n",
       "      <td>3</td>\n",
       "    </tr>\n",
       "    <tr>\n",
       "      <th>3</th>\n",
       "      <td>84313</td>\n",
       "      <td>5522.694</td>\n",
       "      <td>3</td>\n",
       "    </tr>\n",
       "    <tr>\n",
       "      <th>4</th>\n",
       "      <td>51498</td>\n",
       "      <td>213.512</td>\n",
       "      <td>1</td>\n",
       "    </tr>\n",
       "  </tbody>\n",
       "</table>\n",
       "</div>"
      ],
      "text/plain": [
       "   INCOME  TOTAL SPENT  segment\n",
       "0  133498     6826.770        0\n",
       "1   94475     5062.451        3\n",
       "2   88610     8562.440        3\n",
       "3   84313     5522.694        3\n",
       "4   51498      213.512        1"
      ]
     },
     "execution_count": 92,
     "metadata": {},
     "output_type": "execute_result"
    }
   ],
   "source": [
    "segment_DF_1.head()"
   ]
  },
  {
   "cell_type": "code",
   "execution_count": 95,
   "metadata": {},
   "outputs": [
    {
     "data": {
      "image/png": "[encoded data removed]",
      "text/plain": [
       "<Figure size 432x288 with 1 Axes>"
      ]
     },
     "metadata": {
      "needs_background": "light"
     },
     "output_type": "display_data"
    }
   ],
   "source": [
    "plt.scatter(segment_DF_1[segment_DF_1.segment==0]['INCOME'],segment_DF_1[segment_DF_1.segment==0]['TOTAL SPENT'],s=50, c='purple',label='Cluster1')\n",
    "plt.scatter(segment_DF_1[segment_DF_1.segment==1]['INCOME'],segment_DF_1[segment_DF_1.segment==1]['TOTAL SPENT'],s=50, c='blue',label='Cluster2')\n",
    "plt.scatter(segment_DF_1[segment_DF_1.segment==2]['INCOME'],segment_DF_1[segment_DF_1.segment==2]['TOTAL SPENT'],s=50, c='green',label='Cluster3')\n",
    "plt.scatter(segment_DF_1[segment_DF_1.segment==3]['INCOME'],segment_DF_1[segment_DF_1.segment==3]['TOTAL SPENT'],s=50, c='cyan',label='Cluster4')\n",
    "plt.title('Customer segments using AgglomerativeClustering (n=4)')\n",
    "plt.xlabel('Income')\n",
    "plt.ylabel('Total Spend')\n",
    "plt.legend()\n",
    "plt.show()"
   ]
  },
  {
   "cell_type": "code",
   "execution_count": 99,
   "metadata": {},
   "outputs": [],
   "source": [
    "customer_demographics_1 = customer_all_view.copy()\n",
    "customer_demographics_1['segment']=cluster_output_1"
   ]
  },
  {
   "cell_type": "code",
   "execution_count": 100,
   "metadata": {},
   "outputs": [
    {
     "data": {
      "text/html": [
       "<div>\n",
       "<style scoped>\n",
       "    .dataframe tbody tr th:only-of-type {\n",
       "        vertical-align: middle;\n",
       "    }\n",
       "\n",
       "    .dataframe tbody tr th {\n",
       "        vertical-align: top;\n",
       "    }\n",
       "\n",
       "    .dataframe thead th {\n",
       "        text-align: right;\n",
       "    }\n",
       "</style>\n",
       "<table border=\"1\" class=\"dataframe\">\n",
       "  <thead>\n",
       "    <tr style=\"text-align: right;\">\n",
       "      <th></th>\n",
       "      <th>AGE</th>\n",
       "      <th>HOUSEHOLD SIZE</th>\n",
       "      <th>LOYALTY GROUP</th>\n",
       "    </tr>\n",
       "    <tr>\n",
       "      <th>segment</th>\n",
       "      <th></th>\n",
       "      <th></th>\n",
       "      <th></th>\n",
       "    </tr>\n",
       "  </thead>\n",
       "  <tbody>\n",
       "    <tr>\n",
       "      <th>0</th>\n",
       "      <td>61.382022</td>\n",
       "      <td>3</td>\n",
       "      <td>70.224719</td>\n",
       "    </tr>\n",
       "    <tr>\n",
       "      <th>1</th>\n",
       "      <td>32.430769</td>\n",
       "      <td>3</td>\n",
       "      <td>33.846154</td>\n",
       "    </tr>\n",
       "    <tr>\n",
       "      <th>2</th>\n",
       "      <td>22.620000</td>\n",
       "      <td>2</td>\n",
       "      <td>58.000000</td>\n",
       "    </tr>\n",
       "    <tr>\n",
       "      <th>3</th>\n",
       "      <td>40.804348</td>\n",
       "      <td>4</td>\n",
       "      <td>40.217391</td>\n",
       "    </tr>\n",
       "  </tbody>\n",
       "</table>\n",
       "</div>"
      ],
      "text/plain": [
       "               AGE  HOUSEHOLD SIZE  LOYALTY GROUP\n",
       "segment                                          \n",
       "0        61.382022               3      70.224719\n",
       "1        32.430769               3      33.846154\n",
       "2        22.620000               2      58.000000\n",
       "3        40.804348               4      40.217391"
      ]
     },
     "execution_count": 100,
     "metadata": {},
     "output_type": "execute_result"
    }
   ],
   "source": [
    "customer_demographics_1.groupby('segment').agg({'AGE':'mean','HOUSEHOLD SIZE':'median','LOYALTY GROUP': percent_loyalty})"
   ]
  }
 ],
 "metadata": {
  "kernelspec": {
   "display_name": "Python [default]",
   "language": "python",
   "name": "python3"
  },
  "language_info": {
   "codemirror_mode": {
    "name": "ipython",
    "version": 3
   },
   "file_extension": ".py",
   "mimetype": "text/x-python",
   "name": "python",
   "nbconvert_exporter": "python",
   "pygments_lexer": "ipython3",
   "version": "3.6.6"
  }
 },
 "nbformat": 4,
 "nbformat_minor": 1
}
